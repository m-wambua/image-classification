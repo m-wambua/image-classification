{
  "nbformat": 4,
  "nbformat_minor": 0,
  "metadata": {
    "colab": {
      "provenance": [],
      "authorship_tag": "ABX9TyP5OJFjmkQwSerNegfyebGK",
      "include_colab_link": true
    },
    "kernelspec": {
      "name": "python3",
      "display_name": "Python 3"
    },
    "language_info": {
      "name": "python"
    },
    "accelerator": "GPU",
    "gpuClass": "standard"
  },
  "cells": [
    {
      "cell_type": "markdown",
      "metadata": {
        "id": "view-in-github",
        "colab_type": "text"
      },
      "source": [
        "<a href=\"https://colab.research.google.com/github/m-wambua/image-classification/blob/master/vgg16_using_cifar10.ipynb\" target=\"_parent\"><img src=\"https://colab.research.google.com/assets/colab-badge.svg\" alt=\"Open In Colab\"/></a>"
      ]
    },
    {
      "cell_type": "code",
      "execution_count": 1,
      "metadata": {
        "id": "fHVnTJmsPLi9"
      },
      "outputs": [],
      "source": [
        "#===================================\n",
        "''' Imports'''\n",
        "import keras\n",
        "from keras.datasets import cifar10\n",
        "from keras.preprocessing.image import ImageDataGenerator\n",
        "from keras.models import Sequential\n",
        "from keras.callbacks import ModelCheckpoint\n",
        "from keras.layers import (\n",
        "    Dense,\n",
        "    Dropout,\n",
        "    Activation,\n",
        "    Flatten,\n",
        "    Conv2D,\n",
        "    MaxPooling2D,\n",
        "    BatchNormalization\n",
        ")\n",
        "from keras import optimizers\n",
        "import numpy as np\n",
        "from keras.layers.core import Lambda\n",
        "from keras import backend as K \n",
        "from keras import regularizers\n",
        "import matplotlib.pyplot as plt\n",
        "import warnings \n",
        "warnings.filterwarnings(\"ignore\")\n",
        "#===========================================\n"
      ]
    },
    {
      "cell_type": "code",
      "source": [
        "#======================================\n",
        "'''Set your parameters'''\n",
        "number_classes=10\n",
        "wght_decay=0.00005\n",
        "x_shape=[32,32,3]\n",
        "batch_size=64\n",
        "max_epochs=30\n",
        "learning_rate=0.1\n",
        "learning_decay=1e-6\n",
        "learniing_drop=20\n",
        "#================================="
      ],
      "metadata": {
        "id": "zkiUBcb8Pu8t"
      },
      "execution_count": 2,
      "outputs": []
    },
    {
      "cell_type": "code",
      "source": [
        "#================================\n",
        "# LOading the dataset and generating a few images\n",
        "(x_train,y_train),(x_test,y_test)=cifar10.load_data()\n",
        "\n",
        "x_train=x_train.astype('float32')\n",
        "x_test=x_test.astype('float32')\n",
        "\n",
        "fig=plt.figure(figsize=(18,8))\n",
        "columns=5\n",
        "rows=5\n",
        "\n",
        "for i in range(1,columns*rows +1):\n",
        "    fig.add_subplot(rows,columns,i)\n",
        "    plt.imshow(x_train[i],\n",
        "               interpolation='lanczos')\n",
        "    \n",
        "#==========================================="
      ],
      "metadata": {
        "colab": {
          "base_uri": "https://localhost:8080/",
          "height": 854
        },
        "id": "XEEC96xyPzM-",
        "outputId": "e4d76968-0ee2-4d00-ef6d-fd054b120ef5"
      },
      "execution_count": 3,
      "outputs": [
        {
          "output_type": "stream",
          "name": "stdout",
          "text": [
            "Downloading data from https://www.cs.toronto.edu/~kriz/cifar-10-python.tar.gz\n",
            "170498071/170498071 [==============================] - 3s 0us/step\n"
          ]
        },
        {
          "output_type": "stream",
          "name": "stderr",
          "text": [
            "WARNING:matplotlib.image:Clipping input data to the valid range for imshow with RGB data ([0..1] for floats or [0..255] for integers).\n",
            "WARNING:matplotlib.image:Clipping input data to the valid range for imshow with RGB data ([0..1] for floats or [0..255] for integers).\n",
            "WARNING:matplotlib.image:Clipping input data to the valid range for imshow with RGB data ([0..1] for floats or [0..255] for integers).\n",
            "WARNING:matplotlib.image:Clipping input data to the valid range for imshow with RGB data ([0..1] for floats or [0..255] for integers).\n",
            "WARNING:matplotlib.image:Clipping input data to the valid range for imshow with RGB data ([0..1] for floats or [0..255] for integers).\n",
            "WARNING:matplotlib.image:Clipping input data to the valid range for imshow with RGB data ([0..1] for floats or [0..255] for integers).\n",
            "WARNING:matplotlib.image:Clipping input data to the valid range for imshow with RGB data ([0..1] for floats or [0..255] for integers).\n",
            "WARNING:matplotlib.image:Clipping input data to the valid range for imshow with RGB data ([0..1] for floats or [0..255] for integers).\n",
            "WARNING:matplotlib.image:Clipping input data to the valid range for imshow with RGB data ([0..1] for floats or [0..255] for integers).\n",
            "WARNING:matplotlib.image:Clipping input data to the valid range for imshow with RGB data ([0..1] for floats or [0..255] for integers).\n",
            "WARNING:matplotlib.image:Clipping input data to the valid range for imshow with RGB data ([0..1] for floats or [0..255] for integers).\n",
            "WARNING:matplotlib.image:Clipping input data to the valid range for imshow with RGB data ([0..1] for floats or [0..255] for integers).\n",
            "WARNING:matplotlib.image:Clipping input data to the valid range for imshow with RGB data ([0..1] for floats or [0..255] for integers).\n",
            "WARNING:matplotlib.image:Clipping input data to the valid range for imshow with RGB data ([0..1] for floats or [0..255] for integers).\n",
            "WARNING:matplotlib.image:Clipping input data to the valid range for imshow with RGB data ([0..1] for floats or [0..255] for integers).\n",
            "WARNING:matplotlib.image:Clipping input data to the valid range for imshow with RGB data ([0..1] for floats or [0..255] for integers).\n",
            "WARNING:matplotlib.image:Clipping input data to the valid range for imshow with RGB data ([0..1] for floats or [0..255] for integers).\n",
            "WARNING:matplotlib.image:Clipping input data to the valid range for imshow with RGB data ([0..1] for floats or [0..255] for integers).\n",
            "WARNING:matplotlib.image:Clipping input data to the valid range for imshow with RGB data ([0..1] for floats or [0..255] for integers).\n",
            "WARNING:matplotlib.image:Clipping input data to the valid range for imshow with RGB data ([0..1] for floats or [0..255] for integers).\n",
            "WARNING:matplotlib.image:Clipping input data to the valid range for imshow with RGB data ([0..1] for floats or [0..255] for integers).\n",
            "WARNING:matplotlib.image:Clipping input data to the valid range for imshow with RGB data ([0..1] for floats or [0..255] for integers).\n",
            "WARNING:matplotlib.image:Clipping input data to the valid range for imshow with RGB data ([0..1] for floats or [0..255] for integers).\n",
            "WARNING:matplotlib.image:Clipping input data to the valid range for imshow with RGB data ([0..1] for floats or [0..255] for integers).\n",
            "WARNING:matplotlib.image:Clipping input data to the valid range for imshow with RGB data ([0..1] for floats or [0..255] for integers).\n"
          ]
        },
        {
          "output_type": "display_data",
          "data": {
            "text/plain": [
              "<Figure size 1296x576 with 25 Axes>"
            ],
            "image/png": "[encoded data removed]"
          },
          "metadata": {
            "needs_background": "light"
          }
        }
      ]
    },
    {
      "cell_type": "code",
      "source": [
        "#=====================================\n",
        "# Standardize the image data\n",
        "import tensorflow\n",
        "mean=np.mean(x_train,axis=(0,1,2,3))\n",
        "std=np.std(x_train,axis=(0,1,2,3))\n",
        "x_train=(x_train-mean)/(std+1e-7)\n",
        "x_test=(x_test-mean)/(std+1e-7)\n",
        "y_train=tensorflow.keras.utils.to_categorical(y_train,number_classes)\n",
        "y_test=tensorflow.keras.utils.to_categorical(y_test,number_classes)\n",
        "#==============================================="
      ],
      "metadata": {
        "id": "vDwTirGVP2Kp"
      },
      "execution_count": 4,
      "outputs": []
    },
    {
      "cell_type": "code",
      "source": [
        "#=====================================\n",
        "# The VGG16 model\n",
        "model=Sequential()\n",
        "model.add(Conv2D(64,(3,3),padding='same',input_shape=x_shape,kernel_regularizer=regularizers.l2(wght_decay)))\n",
        "model.add(Activation('relu'))\n",
        "model.add(BatchNormalization())\n",
        "model.add(Dropout(0.3))\n",
        "model.add(Conv2D(64,(3,3),padding='same',kernel_regularizer=regularizers.l2(wght_decay)))\n",
        "model.add(Activation('relu'))\n",
        "model.add(BatchNormalization())\n",
        "model.add(MaxPooling2D(pool_size=(2,2)))\n",
        "model.add(Conv2D(128,(3,3),padding='same',kernel_regularizer=regularizers.l2(wght_decay)))\n",
        "model.add(Activation('relu'))\n",
        "model.add(BatchNormalization())\n",
        "model.add(Dropout(0.4))\n",
        "model.add(Conv2D(128,(3,3),padding='same',kernel_regularizer=regularizers.l2(wght_decay)))\n",
        "model.add(Activation('relu'))\n",
        "model.add(BatchNormalization())\n",
        "model.add(Dropout(0.4))\n",
        "model.add(Conv2D(256,(3,3),padding='same',kernel_regularizer=regularizers.l2(wght_decay)))\n",
        "model.add(Activation('relu'))\n",
        "model.add(BatchNormalization())\n",
        "model.add(Dropout(0.4))\n",
        "model.add(Conv2D(256,(3,3),padding='same',kernel_regularizer=regularizers.l2(wght_decay)))\n",
        "model.add(Activation('relu'))\n",
        "model.add(BatchNormalization())\n",
        "model.add(MaxPooling2D(pool_size=(2,2)))\n",
        "model.add(Conv2D(512,(3,3),padding='same',kernel_regularizer=regularizers.l2(wght_decay)))\n",
        "model.add(Activation('relu'))\n",
        "model.add(BatchNormalization())\n",
        "model.add(Dropout(0.4))\n",
        "model.add(Conv2D(512,(3,3),padding='same',kernel_regularizer=regularizers.l2(wght_decay)))\n",
        "model.add(Activation('relu'))\n",
        "model.add(BatchNormalization())\n",
        "model.add(MaxPooling2D(pool_size=(2,2)))\n",
        "model.add(Conv2D(512,(3,3),padding='same',kernel_regularizer=regularizers.l2(wght_decay)))\n",
        "model.add(Activation('relu'))\n",
        "model.add(BatchNormalization())\n",
        "model.add(Dropout(0.4))\n",
        "model.add(Conv2D(512,(3,3),padding='same',kernel_regularizer=regularizers.l2(wght_decay)))\n",
        "model.add(Activation('relu'))\n",
        "model.add(BatchNormalization())\n",
        "model.add(Dropout(0.4))\n",
        "model.add(Conv2D(512,(3,3),padding='same',kernel_regularizer=regularizers.l2(wght_decay)))\n",
        "model.add(Activation('relu'))\n",
        "model.add(BatchNormalization())\n",
        "model.add(Dropout(0.4))\n",
        "model.add(Conv2D(512,(3,3),padding='same',kernel_regularizer=regularizers.l2(wght_decay)))\n",
        "model.add(Activation('relu'))\n",
        "model.add(BatchNormalization())\n",
        "model.add(MaxPooling2D(pool_size=(2,2)))\n",
        "model.add(Dropout(0.5))\n",
        "model.add(Flatten())\n",
        "model.add(Dense(512,kernel_regularizer=regularizers.l2(wght_decay)))\n",
        "model.add(Activation('relu'))\n",
        "model.add(BatchNormalization())\n",
        "model.add(Dropout(0.5))\n",
        "model.add(Dense(number_classes))\n",
        "model.add(Activation('softmax'))\n",
        "#====================================\n"
      ],
      "metadata": {
        "id": "_yhktkHtP8H7"
      },
      "execution_count": 5,
      "outputs": []
    },
    {
      "cell_type": "code",
      "source": [
        "#===========================\n",
        "# Generating the model summary\n",
        "model.summary()\n",
        "#==========================="
      ],
      "metadata": {
        "colab": {
          "base_uri": "https://localhost:8080/"
        },
        "id": "jprvHhJpP-wk",
        "outputId": "086c7cc3-550a-4140-8baa-eb24fdc7c4f4"
      },
      "execution_count": 6,
      "outputs": [
        {
          "output_type": "stream",
          "name": "stdout",
          "text": [
            "Model: \"sequential\"\n",
            "_________________________________________________________________\n",
            " Layer (type)                Output Shape              Param #   \n",
            "=================================================================\n",
            " conv2d (Conv2D)             (None, 32, 32, 64)        1792      \n",
            "                                                                 \n",
            " activation (Activation)     (None, 32, 32, 64)        0         \n",
            "                                                                 \n",
            " batch_normalization (BatchN  (None, 32, 32, 64)       256       \n",
            " ormalization)                                                   \n",
            "                                                                 \n",
            " dropout (Dropout)           (None, 32, 32, 64)        0         \n",
            "                                                                 \n",
            " conv2d_1 (Conv2D)           (None, 32, 32, 64)        36928     \n",
            "                                                                 \n",
            " activation_1 (Activation)   (None, 32, 32, 64)        0         \n",
            "                                                                 \n",
            " batch_normalization_1 (Batc  (None, 32, 32, 64)       256       \n",
            " hNormalization)                                                 \n",
            "                                                                 \n",
            " max_pooling2d (MaxPooling2D  (None, 16, 16, 64)       0         \n",
            " )                                                               \n",
            "                                                                 \n",
            " conv2d_2 (Conv2D)           (None, 16, 16, 128)       73856     \n",
            "                                                                 \n",
            " activation_2 (Activation)   (None, 16, 16, 128)       0         \n",
            "                                                                 \n",
            " batch_normalization_2 (Batc  (None, 16, 16, 128)      512       \n",
            " hNormalization)                                                 \n",
            "                                                                 \n",
            " dropout_1 (Dropout)         (None, 16, 16, 128)       0         \n",
            "                                                                 \n",
            " conv2d_3 (Conv2D)           (None, 16, 16, 128)       147584    \n",
            "                                                                 \n",
            " activation_3 (Activation)   (None, 16, 16, 128)       0         \n",
            "                                                                 \n",
            " batch_normalization_3 (Batc  (None, 16, 16, 128)      512       \n",
            " hNormalization)                                                 \n",
            "                                                                 \n",
            " dropout_2 (Dropout)         (None, 16, 16, 128)       0         \n",
            "                                                                 \n",
            " conv2d_4 (Conv2D)           (None, 16, 16, 256)       295168    \n",
            "                                                                 \n",
            " activation_4 (Activation)   (None, 16, 16, 256)       0         \n",
            "                                                                 \n",
            " batch_normalization_4 (Batc  (None, 16, 16, 256)      1024      \n",
            " hNormalization)                                                 \n",
            "                                                                 \n",
            " dropout_3 (Dropout)         (None, 16, 16, 256)       0         \n",
            "                                                                 \n",
            " conv2d_5 (Conv2D)           (None, 16, 16, 256)       590080    \n",
            "                                                                 \n",
            " activation_5 (Activation)   (None, 16, 16, 256)       0         \n",
            "                                                                 \n",
            " batch_normalization_5 (Batc  (None, 16, 16, 256)      1024      \n",
            " hNormalization)                                                 \n",
            "                                                                 \n",
            " max_pooling2d_1 (MaxPooling  (None, 8, 8, 256)        0         \n",
            " 2D)                                                             \n",
            "                                                                 \n",
            " conv2d_6 (Conv2D)           (None, 8, 8, 512)         1180160   \n",
            "                                                                 \n",
            " activation_6 (Activation)   (None, 8, 8, 512)         0         \n",
            "                                                                 \n",
            " batch_normalization_6 (Batc  (None, 8, 8, 512)        2048      \n",
            " hNormalization)                                                 \n",
            "                                                                 \n",
            " dropout_4 (Dropout)         (None, 8, 8, 512)         0         \n",
            "                                                                 \n",
            " conv2d_7 (Conv2D)           (None, 8, 8, 512)         2359808   \n",
            "                                                                 \n",
            " activation_7 (Activation)   (None, 8, 8, 512)         0         \n",
            "                                                                 \n",
            " batch_normalization_7 (Batc  (None, 8, 8, 512)        2048      \n",
            " hNormalization)                                                 \n",
            "                                                                 \n",
            " max_pooling2d_2 (MaxPooling  (None, 4, 4, 512)        0         \n",
            " 2D)                                                             \n",
            "                                                                 \n",
            " conv2d_8 (Conv2D)           (None, 4, 4, 512)         2359808   \n",
            "                                                                 \n",
            " activation_8 (Activation)   (None, 4, 4, 512)         0         \n",
            "                                                                 \n",
            " batch_normalization_8 (Batc  (None, 4, 4, 512)        2048      \n",
            " hNormalization)                                                 \n",
            "                                                                 \n",
            " dropout_5 (Dropout)         (None, 4, 4, 512)         0         \n",
            "                                                                 \n",
            " conv2d_9 (Conv2D)           (None, 4, 4, 512)         2359808   \n",
            "                                                                 \n",
            " activation_9 (Activation)   (None, 4, 4, 512)         0         \n",
            "                                                                 \n",
            " batch_normalization_9 (Batc  (None, 4, 4, 512)        2048      \n",
            " hNormalization)                                                 \n",
            "                                                                 \n",
            " dropout_6 (Dropout)         (None, 4, 4, 512)         0         \n",
            "                                                                 \n",
            " conv2d_10 (Conv2D)          (None, 4, 4, 512)         2359808   \n",
            "                                                                 \n",
            " activation_10 (Activation)  (None, 4, 4, 512)         0         \n",
            "                                                                 \n",
            " batch_normalization_10 (Bat  (None, 4, 4, 512)        2048      \n",
            " chNormalization)                                                \n",
            "                                                                 \n",
            " dropout_7 (Dropout)         (None, 4, 4, 512)         0         \n",
            "                                                                 \n",
            " conv2d_11 (Conv2D)          (None, 4, 4, 512)         2359808   \n",
            "                                                                 \n",
            " activation_11 (Activation)  (None, 4, 4, 512)         0         \n",
            "                                                                 \n",
            " batch_normalization_11 (Bat  (None, 4, 4, 512)        2048      \n",
            " chNormalization)                                                \n",
            "                                                                 \n",
            " max_pooling2d_3 (MaxPooling  (None, 2, 2, 512)        0         \n",
            " 2D)                                                             \n",
            "                                                                 \n",
            " dropout_8 (Dropout)         (None, 2, 2, 512)         0         \n",
            "                                                                 \n",
            " flatten (Flatten)           (None, 2048)              0         \n",
            "                                                                 \n",
            " dense (Dense)               (None, 512)               1049088   \n",
            "                                                                 \n",
            " activation_12 (Activation)  (None, 512)               0         \n",
            "                                                                 \n",
            " batch_normalization_12 (Bat  (None, 512)              2048      \n",
            " chNormalization)                                                \n",
            "                                                                 \n",
            " dropout_9 (Dropout)         (None, 512)               0         \n",
            "                                                                 \n",
            " dense_1 (Dense)             (None, 10)                5130      \n",
            "                                                                 \n",
            " activation_13 (Activation)  (None, 10)                0         \n",
            "                                                                 \n",
            "=================================================================\n",
            "Total params: 15,196,746\n",
            "Trainable params: 15,187,786\n",
            "Non-trainable params: 8,960\n",
            "_________________________________________________________________\n"
          ]
        }
      ]
    },
    {
      "cell_type": "code",
      "source": [
        "#=================================\n",
        "# Image Augmentation\n",
        "image_augm=ImageDataGenerator(\n",
        "    featurewise_center=False,\n",
        "    samplewise_center=False,\n",
        "    featurewise_std_normalization=False,\n",
        "    samplewise_std_normalization=False,\n",
        "    zca_whitening=False,\n",
        "    rotation_range=12,\n",
        "    width_shift_range=0.2,\n",
        "    height_shift_range=0.1,\n",
        "    horizontal_flip=True,\n",
        "    vertical_flip=False\n",
        ")\n",
        "\n",
        "image_augm.fit(x_train)\n",
        "\n",
        "sgd=keras.optimizers.SGD(lr=learning_rate,decay=learning_decay,momentum=0.9,nesterov=True)\n",
        "model.compile(loss='categorical_crossentropy',optimizer=sgd,metrics=['accuracy'])\n",
        "filepath=\"weights.best.hdf5\"\n",
        "checkpoint=ModelCheckpoint(filepath,monitor='val_accuracy',verbose=1,save_best_only=True,mode='max')\n",
        "callbacks_list=[checkpoint]\n",
        "trained_model=model.fit_generator(image_augm.flow(x_train,y_train,batch_size=batch_size),steps_per_epoch=x_train.shape[0]//batch_size,\n",
        "                                  epochs=max_epochs,validation_data=(x_test,y_test),\n",
        "                                  callbacks=callbacks_list,verbose=1)\n",
        "#================================"
      ],
      "metadata": {
        "colab": {
          "base_uri": "https://localhost:8080/"
        },
        "id": "nQ6f9wqUQCEM",
        "outputId": "ea847567-3a8d-43d3-fcd2-31f730c7a529"
      },
      "execution_count": 7,
      "outputs": [
        {
          "output_type": "stream",
          "name": "stdout",
          "text": [
            "Epoch 1/30\n",
            "781/781 [==============================] - ETA: 0s - loss: 6.0336 - accuracy: 0.2163\n",
            "Epoch 1: val_accuracy improved from -inf to 0.19500, saving model to weights.best.hdf5\n",
            "781/781 [==============================] - 72s 78ms/step - loss: 6.0336 - accuracy: 0.2163 - val_loss: 5.8274 - val_accuracy: 0.1950\n",
            "Epoch 2/30\n",
            "781/781 [==============================] - ETA: 0s - loss: 4.9631 - accuracy: 0.3040\n",
            "Epoch 2: val_accuracy improved from 0.19500 to 0.19690, saving model to weights.best.hdf5\n",
            "781/781 [==============================] - 59s 75ms/step - loss: 4.9631 - accuracy: 0.3040 - val_loss: 5.3815 - val_accuracy: 0.1969\n",
            "Epoch 3/30\n",
            "781/781 [==============================] - ETA: 0s - loss: 4.4073 - accuracy: 0.3544\n",
            "Epoch 3: val_accuracy improved from 0.19690 to 0.26550, saving model to weights.best.hdf5\n",
            "781/781 [==============================] - 59s 75ms/step - loss: 4.4073 - accuracy: 0.3544 - val_loss: 4.6753 - val_accuracy: 0.2655\n",
            "Epoch 4/30\n",
            "781/781 [==============================] - ETA: 0s - loss: 3.9149 - accuracy: 0.4075\n",
            "Epoch 4: val_accuracy improved from 0.26550 to 0.39720, saving model to weights.best.hdf5\n",
            "781/781 [==============================] - 59s 75ms/step - loss: 3.9149 - accuracy: 0.4075 - val_loss: 3.8476 - val_accuracy: 0.3972\n",
            "Epoch 5/30\n",
            "781/781 [==============================] - ETA: 0s - loss: 3.4822 - accuracy: 0.4585\n",
            "Epoch 5: val_accuracy improved from 0.39720 to 0.42710, saving model to weights.best.hdf5\n",
            "781/781 [==============================] - 59s 75ms/step - loss: 3.4822 - accuracy: 0.4585 - val_loss: 3.4988 - val_accuracy: 0.4271\n",
            "Epoch 6/30\n",
            "781/781 [==============================] - ETA: 0s - loss: 3.1222 - accuracy: 0.4961\n",
            "Epoch 6: val_accuracy improved from 0.42710 to 0.48090, saving model to weights.best.hdf5\n",
            "781/781 [==============================] - 59s 76ms/step - loss: 3.1222 - accuracy: 0.4961 - val_loss: 3.1156 - val_accuracy: 0.4809\n",
            "Epoch 7/30\n",
            "781/781 [==============================] - ETA: 0s - loss: 2.8218 - accuracy: 0.5326\n",
            "Epoch 7: val_accuracy improved from 0.48090 to 0.53420, saving model to weights.best.hdf5\n",
            "781/781 [==============================] - 57s 73ms/step - loss: 2.8218 - accuracy: 0.5326 - val_loss: 2.7982 - val_accuracy: 0.5342\n",
            "Epoch 8/30\n",
            "781/781 [==============================] - ETA: 0s - loss: 2.5422 - accuracy: 0.5709\n",
            "Epoch 8: val_accuracy improved from 0.53420 to 0.59180, saving model to weights.best.hdf5\n",
            "781/781 [==============================] - 57s 73ms/step - loss: 2.5422 - accuracy: 0.5709 - val_loss: 2.4192 - val_accuracy: 0.5918\n",
            "Epoch 9/30\n",
            "781/781 [==============================] - ETA: 0s - loss: 2.3074 - accuracy: 0.6013\n",
            "Epoch 9: val_accuracy improved from 0.59180 to 0.62720, saving model to weights.best.hdf5\n",
            "781/781 [==============================] - 59s 75ms/step - loss: 2.3074 - accuracy: 0.6013 - val_loss: 2.1793 - val_accuracy: 0.6272\n",
            "Epoch 10/30\n",
            "781/781 [==============================] - ETA: 0s - loss: 2.1114 - accuracy: 0.6253\n",
            "Epoch 10: val_accuracy improved from 0.62720 to 0.64570, saving model to weights.best.hdf5\n",
            "781/781 [==============================] - 57s 73ms/step - loss: 2.1114 - accuracy: 0.6253 - val_loss: 2.0663 - val_accuracy: 0.6457\n",
            "Epoch 11/30\n",
            "781/781 [==============================] - ETA: 0s - loss: 1.9390 - accuracy: 0.6545\n",
            "Epoch 11: val_accuracy improved from 0.64570 to 0.67190, saving model to weights.best.hdf5\n",
            "781/781 [==============================] - 58s 75ms/step - loss: 1.9390 - accuracy: 0.6545 - val_loss: 1.8926 - val_accuracy: 0.6719\n",
            "Epoch 12/30\n",
            "781/781 [==============================] - ETA: 0s - loss: 1.7756 - accuracy: 0.6808\n",
            "Epoch 12: val_accuracy improved from 0.67190 to 0.71840, saving model to weights.best.hdf5\n",
            "781/781 [==============================] - 58s 75ms/step - loss: 1.7756 - accuracy: 0.6808 - val_loss: 1.6738 - val_accuracy: 0.7184\n",
            "Epoch 13/30\n",
            "781/781 [==============================] - ETA: 0s - loss: 1.6441 - accuracy: 0.7032\n",
            "Epoch 13: val_accuracy did not improve from 0.71840\n",
            "781/781 [==============================] - 59s 75ms/step - loss: 1.6441 - accuracy: 0.7032 - val_loss: 1.6785 - val_accuracy: 0.6898\n",
            "Epoch 14/30\n",
            "781/781 [==============================] - ETA: 0s - loss: 1.5366 - accuracy: 0.7194\n",
            "Epoch 14: val_accuracy improved from 0.71840 to 0.76820, saving model to weights.best.hdf5\n",
            "781/781 [==============================] - 59s 75ms/step - loss: 1.5366 - accuracy: 0.7194 - val_loss: 1.3782 - val_accuracy: 0.7682\n",
            "Epoch 15/30\n",
            "781/781 [==============================] - ETA: 0s - loss: 1.4464 - accuracy: 0.7343\n",
            "Epoch 15: val_accuracy improved from 0.76820 to 0.78960, saving model to weights.best.hdf5\n",
            "781/781 [==============================] - 58s 75ms/step - loss: 1.4464 - accuracy: 0.7343 - val_loss: 1.2661 - val_accuracy: 0.7896\n",
            "Epoch 16/30\n",
            "781/781 [==============================] - ETA: 0s - loss: 1.3690 - accuracy: 0.7491\n",
            "Epoch 16: val_accuracy did not improve from 0.78960\n",
            "781/781 [==============================] - 58s 74ms/step - loss: 1.3690 - accuracy: 0.7491 - val_loss: 1.2786 - val_accuracy: 0.7772\n",
            "Epoch 17/30\n",
            "781/781 [==============================] - ETA: 0s - loss: 1.3132 - accuracy: 0.7566\n",
            "Epoch 17: val_accuracy improved from 0.78960 to 0.79340, saving model to weights.best.hdf5\n",
            "781/781 [==============================] - 57s 73ms/step - loss: 1.3132 - accuracy: 0.7566 - val_loss: 1.1975 - val_accuracy: 0.7934\n",
            "Epoch 18/30\n",
            "781/781 [==============================] - ETA: 0s - loss: 1.2598 - accuracy: 0.7682\n",
            "Epoch 18: val_accuracy improved from 0.79340 to 0.81140, saving model to weights.best.hdf5\n",
            "781/781 [==============================] - 57s 72ms/step - loss: 1.2598 - accuracy: 0.7682 - val_loss: 1.1133 - val_accuracy: 0.8114\n",
            "Epoch 19/30\n",
            "781/781 [==============================] - ETA: 0s - loss: 1.2275 - accuracy: 0.7736\n",
            "Epoch 19: val_accuracy improved from 0.81140 to 0.81550, saving model to weights.best.hdf5\n",
            "781/781 [==============================] - 56s 72ms/step - loss: 1.2275 - accuracy: 0.7736 - val_loss: 1.0903 - val_accuracy: 0.8155\n",
            "Epoch 20/30\n",
            "781/781 [==============================] - ETA: 0s - loss: 1.1942 - accuracy: 0.7820\n",
            "Epoch 20: val_accuracy improved from 0.81550 to 0.83350, saving model to weights.best.hdf5\n",
            "781/781 [==============================] - 59s 75ms/step - loss: 1.1942 - accuracy: 0.7820 - val_loss: 1.0325 - val_accuracy: 0.8335\n",
            "Epoch 21/30\n",
            "781/781 [==============================] - ETA: 0s - loss: 1.1543 - accuracy: 0.7887\n",
            "Epoch 21: val_accuracy did not improve from 0.83350\n",
            "781/781 [==============================] - 56s 72ms/step - loss: 1.1543 - accuracy: 0.7887 - val_loss: 1.0199 - val_accuracy: 0.8322\n",
            "Epoch 22/30\n",
            "781/781 [==============================] - ETA: 0s - loss: 1.1264 - accuracy: 0.7970\n",
            "Epoch 22: val_accuracy improved from 0.83350 to 0.83540, saving model to weights.best.hdf5\n",
            "781/781 [==============================] - 57s 72ms/step - loss: 1.1264 - accuracy: 0.7970 - val_loss: 0.9992 - val_accuracy: 0.8354\n",
            "Epoch 23/30\n",
            "781/781 [==============================] - ETA: 0s - loss: 1.1157 - accuracy: 0.7990\n",
            "Epoch 23: val_accuracy did not improve from 0.83540\n",
            "781/781 [==============================] - 56s 72ms/step - loss: 1.1157 - accuracy: 0.7990 - val_loss: 1.0215 - val_accuracy: 0.8267\n",
            "Epoch 24/30\n",
            "781/781 [==============================] - ETA: 0s - loss: 1.1042 - accuracy: 0.8020\n",
            "Epoch 24: val_accuracy did not improve from 0.83540\n",
            "781/781 [==============================] - 56s 72ms/step - loss: 1.1042 - accuracy: 0.8020 - val_loss: 1.0295 - val_accuracy: 0.8290\n",
            "Epoch 25/30\n",
            "781/781 [==============================] - ETA: 0s - loss: 1.0858 - accuracy: 0.8082\n",
            "Epoch 25: val_accuracy improved from 0.83540 to 0.84180, saving model to weights.best.hdf5\n",
            "781/781 [==============================] - 57s 73ms/step - loss: 1.0858 - accuracy: 0.8082 - val_loss: 0.9799 - val_accuracy: 0.8418\n",
            "Epoch 26/30\n",
            "781/781 [==============================] - ETA: 0s - loss: 1.0754 - accuracy: 0.8113\n",
            "Epoch 26: val_accuracy did not improve from 0.84180\n",
            "781/781 [==============================] - 56s 71ms/step - loss: 1.0754 - accuracy: 0.8113 - val_loss: 0.9954 - val_accuracy: 0.8409\n",
            "Epoch 27/30\n",
            "781/781 [==============================] - ETA: 0s - loss: 1.0702 - accuracy: 0.8148\n",
            "Epoch 27: val_accuracy improved from 0.84180 to 0.84430, saving model to weights.best.hdf5\n",
            "781/781 [==============================] - 59s 75ms/step - loss: 1.0702 - accuracy: 0.8148 - val_loss: 0.9820 - val_accuracy: 0.8443\n",
            "Epoch 28/30\n",
            "781/781 [==============================] - ETA: 0s - loss: 1.0609 - accuracy: 0.8167\n",
            "Epoch 28: val_accuracy did not improve from 0.84430\n",
            "781/781 [==============================] - 59s 75ms/step - loss: 1.0609 - accuracy: 0.8167 - val_loss: 0.9905 - val_accuracy: 0.8406\n",
            "Epoch 29/30\n",
            "781/781 [==============================] - ETA: 0s - loss: 1.0535 - accuracy: 0.8226\n",
            "Epoch 29: val_accuracy improved from 0.84430 to 0.85170, saving model to weights.best.hdf5\n",
            "781/781 [==============================] - 58s 75ms/step - loss: 1.0535 - accuracy: 0.8226 - val_loss: 0.9629 - val_accuracy: 0.8517\n",
            "Epoch 30/30\n",
            "781/781 [==============================] - ETA: 0s - loss: 1.0416 - accuracy: 0.8251\n",
            "Epoch 30: val_accuracy improved from 0.85170 to 0.85890, saving model to weights.best.hdf5\n",
            "781/781 [==============================] - 56s 72ms/step - loss: 1.0416 - accuracy: 0.8251 - val_loss: 0.9405 - val_accuracy: 0.8589\n"
          ]
        }
      ]
    },
    {
      "cell_type": "code",
      "source": [
        "#=====================================\n",
        "# plottiing the accuracy\n",
        "import matplotlib.pyplot as plt\n",
        "f,ax=plt.subplots()\n",
        "ax.plot([None]+model.history.history['accuracy'],'o-')\n",
        "ax.plot([None]+model.history.history['val_accuracy'],'x-')\n",
        "ax.legend(['Train acc','Validation acc'],loc=0)\n",
        "ax.set_title('Training/Validation acc per epoch')\n",
        "ax.set_xlabel('Epoch')\n",
        "ax.set_ylabel('acc')\n",
        "plt.savefig('training-and-validation-accuracy-per-epoch.jpg')\n",
        "#=================================="
      ],
      "metadata": {
        "colab": {
          "base_uri": "https://localhost:8080/",
          "height": 295
        },
        "id": "ey7HcCRYQI81",
        "outputId": "31bdce86-7be6-4f05-955c-df8b04322edd"
      },
      "execution_count": 9,
      "outputs": [
        {
          "output_type": "display_data",
          "data": {
            "text/plain": [
              "<Figure size 432x288 with 1 Axes>"
            ],
            "image/png": "[encoded data removed]"
          },
          "metadata": {
            "needs_background": "light"
          }
        }
      ]
    },
    {
      "cell_type": "code",
      "source": [
        "f,ax=plt.subplots()\n",
        "ax.plot([None]+model.history.history['loss'],'o-')\n",
        "ax.plot([None]+model.history.history['val_loss'],'x-')\n",
        "ax.legend(['Train loss','Validation loss'],loc=0)\n",
        "ax.set_title('Training/Validation loss per epoch')\n",
        "ax.set_xlabel('Epoch')\n",
        "ax.set_ylabel('loss')\n",
        "plt.savefig('training-and-validation-loss-per-epoch.jpg')\n",
        "#==================================\n"
      ],
      "metadata": {
        "colab": {
          "base_uri": "https://localhost:8080/",
          "height": 295
        },
        "id": "yo722UuOQ-R_",
        "outputId": "14bc951d-90c2-4aff-cc9a-cc248d6e1186"
      },
      "execution_count": 10,
      "outputs": [
        {
          "output_type": "display_data",
          "data": {
            "text/plain": [
              "<Figure size 432x288 with 1 Axes>"
            ],
            "image/png": "[encoded data removed]"
          },
          "metadata": {
            "needs_background": "light"
          }
        }
      ]
    },
    {
      "cell_type": "code",
      "source": [
        "predictions=model.predict(x_test)\n",
        "from sklearn.metrics import confusion_matrix\n",
        "import numpy as np\n",
        "rounded_labels=np.argmax(y_test,axis=1)\n",
        "rounded_labels[1]\n",
        "\n",
        "cm=confusion_matrix(rounded_labels,np.argmax(predictions,axis=1))"
      ],
      "metadata": {
        "colab": {
          "base_uri": "https://localhost:8080/"
        },
        "id": "yWue354haCI_",
        "outputId": "4704f3a3-bd28-4d4b-e24c-c63635ce250a"
      },
      "execution_count": 12,
      "outputs": [
        {
          "output_type": "stream",
          "name": "stdout",
          "text": [
            "313/313 [==============================] - 3s 10ms/step\n"
          ]
        }
      ]
    },
    {
      "cell_type": "code",
      "source": [
        "cm"
      ],
      "metadata": {
        "colab": {
          "base_uri": "https://localhost:8080/"
        },
        "id": "-59F_iblaq50",
        "outputId": "2f989022-fdc7-45e5-af42-0265aa1a85f1"
      },
      "execution_count": 13,
      "outputs": [
        {
          "output_type": "execute_result",
          "data": {
            "text/plain": [
              "array([[889,   7,  50,   4,   3,   0,   5,   7,  20,  15],\n",
              "       [  8, 969,   1,   0,   0,   0,   1,   0,   4,  17],\n",
              "       [ 25,   0, 867,  14,  27,  23,  27,  15,   2,   0],\n",
              "       [ 21,   3,  77, 691,  32,  74,  55,  37,   4,   6],\n",
              "       [ 15,   1,  62,   8, 841,   7,  36,  25,   4,   1],\n",
              "       [  8,   1,  31, 144,  31, 727,  17,  38,   3,   0],\n",
              "       [  6,   1,  33,  18,   7,   5, 922,   5,   2,   1],\n",
              "       [ 11,   0,  18,  16,  27,  15,   1, 911,   1,   0],\n",
              "       [ 63,  17,  13,   3,   1,   1,   1,   4, 888,   9],\n",
              "       [ 20,  71,   1,   3,   2,   1,   4,   8,   6, 884]])"
            ]
          },
          "metadata": {},
          "execution_count": 13
        }
      ]
    },
    {
      "cell_type": "code",
      "source": [
        "def plot_confusion_matrix(cm):\n",
        "  cm=[row/sum(row) for row in cm]\n",
        "  fig=plt.figure(figsize=(10,10))\n",
        "  ax=fig.add_subplot(111)\n",
        "  cax=ax.matshow(cm,cmap=plt.cm.Oranges)\n",
        "  fig.colorbar(cax)\n",
        "  plt.title('Confusion Matrix')\n",
        "  plt.xlabel('Predicted Class IDs')\n",
        "  plt.ylabel('True Class IDs')\n",
        "  plt.show()\n",
        "  plt.savefig('confusion-matrix.jpg')\n",
        "  "
      ],
      "metadata": {
        "id": "0BooZK-GbDEf"
      },
      "execution_count": 16,
      "outputs": []
    },
    {
      "cell_type": "code",
      "source": [
        "plot_confusion_matrix(cm)"
      ],
      "metadata": {
        "colab": {
          "base_uri": "https://localhost:8080/",
          "height": 597
        },
        "id": "J161BDMdb2xT",
        "outputId": "76eca8d4-412b-4d11-887f-1d7f8dc4708e"
      },
      "execution_count": 17,
      "outputs": [
        {
          "output_type": "display_data",
          "data": {
            "text/plain": [
              "<Figure size 720x720 with 2 Axes>"
            ],
            "image/png": "[encoded data removed]"
          },
          "metadata": {
            "needs_background": "light"
          }
        },
        {
          "output_type": "display_data",
          "data": {
            "text/plain": [
              "<Figure size 432x288 with 0 Axes>"
            ]
          },
          "metadata": {}
        }
      ]
    },
    {
      "cell_type": "code",
      "source": [],
      "metadata": {
        "id": "lyd5Dacnb5yZ"
      },
      "execution_count": null,
      "outputs": []
    }
  ]
}